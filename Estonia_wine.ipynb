{
 "cells": [
  {
   "cell_type": "code",
   "execution_count": 86,
   "metadata": {},
   "outputs": [],
   "source": [
    "import pandas as pd\n",
    "import matplotlib.pyplot as plt\n",
    "import numpy as np\n",
    "import seaborn as sns\n",
    "from scipy import stats\n",
    "import os\n",
    "import json\n",
    "from pandas import json_normalize\n",
    "\n",
    "#에스토니아의 와인소비량이 전세계평균량과 상관관계가 있을수 있다. "
   ]
  },
  {
   "cell_type": "code",
   "execution_count": 87,
   "metadata": {},
   "outputs": [
    {
     "data": {
      "text/html": [
       "<div>\n",
       "<style scoped>\n",
       "    .dataframe tbody tr th:only-of-type {\n",
       "        vertical-align: middle;\n",
       "    }\n",
       "\n",
       "    .dataframe tbody tr th {\n",
       "        vertical-align: top;\n",
       "    }\n",
       "\n",
       "    .dataframe thead th {\n",
       "        text-align: right;\n",
       "    }\n",
       "</style>\n",
       "<table border=\"1\" class=\"dataframe\">\n",
       "  <thead>\n",
       "    <tr style=\"text-align: right;\">\n",
       "      <th></th>\n",
       "      <th>country</th>\n",
       "      <th>beer_servings</th>\n",
       "      <th>spirit_servings</th>\n",
       "      <th>wine_servings</th>\n",
       "      <th>total_litres_of_pure_alcohol</th>\n",
       "      <th>continent</th>\n",
       "    </tr>\n",
       "  </thead>\n",
       "  <tbody>\n",
       "    <tr>\n",
       "      <th>0</th>\n",
       "      <td>Afghanistan</td>\n",
       "      <td>0</td>\n",
       "      <td>0</td>\n",
       "      <td>0</td>\n",
       "      <td>0.0</td>\n",
       "      <td>AS</td>\n",
       "    </tr>\n",
       "    <tr>\n",
       "      <th>1</th>\n",
       "      <td>Albania</td>\n",
       "      <td>89</td>\n",
       "      <td>132</td>\n",
       "      <td>54</td>\n",
       "      <td>4.9</td>\n",
       "      <td>EU</td>\n",
       "    </tr>\n",
       "    <tr>\n",
       "      <th>2</th>\n",
       "      <td>Algeria</td>\n",
       "      <td>25</td>\n",
       "      <td>0</td>\n",
       "      <td>14</td>\n",
       "      <td>0.7</td>\n",
       "      <td>AF</td>\n",
       "    </tr>\n",
       "    <tr>\n",
       "      <th>3</th>\n",
       "      <td>Andorra</td>\n",
       "      <td>245</td>\n",
       "      <td>138</td>\n",
       "      <td>312</td>\n",
       "      <td>12.4</td>\n",
       "      <td>EU</td>\n",
       "    </tr>\n",
       "    <tr>\n",
       "      <th>4</th>\n",
       "      <td>Angola</td>\n",
       "      <td>217</td>\n",
       "      <td>57</td>\n",
       "      <td>45</td>\n",
       "      <td>5.9</td>\n",
       "      <td>AF</td>\n",
       "    </tr>\n",
       "  </tbody>\n",
       "</table>\n",
       "</div>"
      ],
      "text/plain": [
       "       country  beer_servings  spirit_servings  wine_servings  \\\n",
       "0  Afghanistan              0                0              0   \n",
       "1      Albania             89              132             54   \n",
       "2      Algeria             25                0             14   \n",
       "3      Andorra            245              138            312   \n",
       "4       Angola            217               57             45   \n",
       "\n",
       "   total_litres_of_pure_alcohol continent  \n",
       "0                           0.0        AS  \n",
       "1                           4.9        EU  \n",
       "2                           0.7        AF  \n",
       "3                          12.4        EU  \n",
       "4                           5.9        AF  "
      ]
     },
     "execution_count": 87,
     "metadata": {},
     "output_type": "execute_result"
    }
   ],
   "source": [
    "url = \"https://raw.githubusercontent.com/yoonkt200/python-data-analysis/master/data/drinks.csv\"\n",
    "df = pd.read_csv(url)\n",
    "df.head()\n"
   ]
  },
  {
   "cell_type": "code",
   "execution_count": 88,
   "metadata": {},
   "outputs": [
    {
     "data": {
      "text/plain": [
       "country                         0\n",
       "beer_servings                   0\n",
       "spirit_servings                 0\n",
       "wine_servings                   0\n",
       "total_litres_of_pure_alcohol    0\n",
       "continent                       0\n",
       "dtype: int64"
      ]
     },
     "execution_count": 88,
     "metadata": {},
     "output_type": "execute_result"
    }
   ],
   "source": [
    "# Filling missing values in 'continent' column with 'Unknown'\n",
    "df['continent'].fillna('Unknown', inplace=True)\n",
    "\n",
    "# Check if the missing values are filled\n",
    "updated_missing_values = df.isnull().sum()\n",
    "updated_missing_values\n"
   ]
  },
  {
   "cell_type": "code",
   "execution_count": 89,
   "metadata": {},
   "outputs": [
    {
     "data": {
      "text/plain": [
       "(193, 6)"
      ]
     },
     "execution_count": 89,
     "metadata": {},
     "output_type": "execute_result"
    }
   ],
   "source": [
    "df.shape\n"
   ]
  },
  {
   "cell_type": "code",
   "execution_count": 90,
   "metadata": {},
   "outputs": [
    {
     "data": {
      "text/plain": [
       "country                         0\n",
       "beer_servings                   0\n",
       "spirit_servings                 0\n",
       "wine_servings                   0\n",
       "total_litres_of_pure_alcohol    0\n",
       "continent                       0\n",
       "dtype: int64"
      ]
     },
     "execution_count": 90,
     "metadata": {},
     "output_type": "execute_result"
    }
   ],
   "source": [
    "df.isna().sum() #결측치 확인"
   ]
  },
  {
   "cell_type": "code",
   "execution_count": 91,
   "metadata": {},
   "outputs": [
    {
     "data": {
      "text/html": [
       "<div>\n",
       "<style scoped>\n",
       "    .dataframe tbody tr th:only-of-type {\n",
       "        vertical-align: middle;\n",
       "    }\n",
       "\n",
       "    .dataframe tbody tr th {\n",
       "        vertical-align: top;\n",
       "    }\n",
       "\n",
       "    .dataframe thead th {\n",
       "        text-align: right;\n",
       "    }\n",
       "</style>\n",
       "<table border=\"1\" class=\"dataframe\">\n",
       "  <thead>\n",
       "    <tr style=\"text-align: right;\">\n",
       "      <th></th>\n",
       "      <th>continent</th>\n",
       "      <th>country</th>\n",
       "      <th>beer_servings</th>\n",
       "      <th>wine_servings</th>\n",
       "    </tr>\n",
       "  </thead>\n",
       "  <tbody>\n",
       "    <tr>\n",
       "      <th>0</th>\n",
       "      <td>AS</td>\n",
       "      <td>Afghanistan</td>\n",
       "      <td>0</td>\n",
       "      <td>0</td>\n",
       "    </tr>\n",
       "    <tr>\n",
       "      <th>1</th>\n",
       "      <td>EU</td>\n",
       "      <td>Albania</td>\n",
       "      <td>89</td>\n",
       "      <td>54</td>\n",
       "    </tr>\n",
       "    <tr>\n",
       "      <th>2</th>\n",
       "      <td>AF</td>\n",
       "      <td>Algeria</td>\n",
       "      <td>25</td>\n",
       "      <td>14</td>\n",
       "    </tr>\n",
       "    <tr>\n",
       "      <th>3</th>\n",
       "      <td>EU</td>\n",
       "      <td>Andorra</td>\n",
       "      <td>245</td>\n",
       "      <td>312</td>\n",
       "    </tr>\n",
       "    <tr>\n",
       "      <th>4</th>\n",
       "      <td>AF</td>\n",
       "      <td>Angola</td>\n",
       "      <td>217</td>\n",
       "      <td>45</td>\n",
       "    </tr>\n",
       "    <tr>\n",
       "      <th>...</th>\n",
       "      <td>...</td>\n",
       "      <td>...</td>\n",
       "      <td>...</td>\n",
       "      <td>...</td>\n",
       "    </tr>\n",
       "    <tr>\n",
       "      <th>188</th>\n",
       "      <td>SA</td>\n",
       "      <td>Venezuela</td>\n",
       "      <td>333</td>\n",
       "      <td>3</td>\n",
       "    </tr>\n",
       "    <tr>\n",
       "      <th>189</th>\n",
       "      <td>AS</td>\n",
       "      <td>Vietnam</td>\n",
       "      <td>111</td>\n",
       "      <td>1</td>\n",
       "    </tr>\n",
       "    <tr>\n",
       "      <th>190</th>\n",
       "      <td>AS</td>\n",
       "      <td>Yemen</td>\n",
       "      <td>6</td>\n",
       "      <td>0</td>\n",
       "    </tr>\n",
       "    <tr>\n",
       "      <th>191</th>\n",
       "      <td>AF</td>\n",
       "      <td>Zambia</td>\n",
       "      <td>32</td>\n",
       "      <td>4</td>\n",
       "    </tr>\n",
       "    <tr>\n",
       "      <th>192</th>\n",
       "      <td>AF</td>\n",
       "      <td>Zimbabwe</td>\n",
       "      <td>64</td>\n",
       "      <td>4</td>\n",
       "    </tr>\n",
       "  </tbody>\n",
       "</table>\n",
       "<p>193 rows × 4 columns</p>\n",
       "</div>"
      ],
      "text/plain": [
       "    continent      country  beer_servings  wine_servings\n",
       "0          AS  Afghanistan              0              0\n",
       "1          EU      Albania             89             54\n",
       "2          AF      Algeria             25             14\n",
       "3          EU      Andorra            245            312\n",
       "4          AF       Angola            217             45\n",
       "..        ...          ...            ...            ...\n",
       "188        SA    Venezuela            333              3\n",
       "189        AS      Vietnam            111              1\n",
       "190        AS        Yemen              6              0\n",
       "191        AF       Zambia             32              4\n",
       "192        AF     Zimbabwe             64              4\n",
       "\n",
       "[193 rows x 4 columns]"
      ]
     },
     "execution_count": 91,
     "metadata": {},
     "output_type": "execute_result"
    }
   ],
   "source": [
    "#필요한 열 남기기\n",
    "df = df.loc[:,['continent','country','beer_servings','wine_servings',]]\n",
    "df"
   ]
  },
  {
   "cell_type": "code",
   "execution_count": 92,
   "metadata": {},
   "outputs": [
    {
     "data": {
      "text/html": [
       "<div>\n",
       "<style scoped>\n",
       "    .dataframe tbody tr th:only-of-type {\n",
       "        vertical-align: middle;\n",
       "    }\n",
       "\n",
       "    .dataframe tbody tr th {\n",
       "        vertical-align: top;\n",
       "    }\n",
       "\n",
       "    .dataframe thead th {\n",
       "        text-align: right;\n",
       "    }\n",
       "</style>\n",
       "<table border=\"1\" class=\"dataframe\">\n",
       "  <thead>\n",
       "    <tr style=\"text-align: right;\">\n",
       "      <th></th>\n",
       "      <th>continent</th>\n",
       "      <th>country</th>\n",
       "      <th>beer_servings</th>\n",
       "      <th>wine_servings</th>\n",
       "    </tr>\n",
       "  </thead>\n",
       "  <tbody>\n",
       "    <tr>\n",
       "      <th>0</th>\n",
       "      <td>AS</td>\n",
       "      <td>Afghanistan</td>\n",
       "      <td>0</td>\n",
       "      <td>0</td>\n",
       "    </tr>\n",
       "    <tr>\n",
       "      <th>1</th>\n",
       "      <td>EU</td>\n",
       "      <td>Albania</td>\n",
       "      <td>89</td>\n",
       "      <td>54</td>\n",
       "    </tr>\n",
       "    <tr>\n",
       "      <th>2</th>\n",
       "      <td>AF</td>\n",
       "      <td>Algeria</td>\n",
       "      <td>25</td>\n",
       "      <td>14</td>\n",
       "    </tr>\n",
       "    <tr>\n",
       "      <th>3</th>\n",
       "      <td>EU</td>\n",
       "      <td>Andorra</td>\n",
       "      <td>245</td>\n",
       "      <td>312</td>\n",
       "    </tr>\n",
       "    <tr>\n",
       "      <th>4</th>\n",
       "      <td>AF</td>\n",
       "      <td>Angola</td>\n",
       "      <td>217</td>\n",
       "      <td>45</td>\n",
       "    </tr>\n",
       "  </tbody>\n",
       "</table>\n",
       "</div>"
      ],
      "text/plain": [
       "  continent      country  beer_servings  wine_servings\n",
       "0        AS  Afghanistan              0              0\n",
       "1        EU      Albania             89             54\n",
       "2        AF      Algeria             25             14\n",
       "3        EU      Andorra            245            312\n",
       "4        AF       Angola            217             45"
      ]
     },
     "execution_count": 92,
     "metadata": {},
     "output_type": "execute_result"
    }
   ],
   "source": [
    "# 결측치 없애는 작업\n",
    "df.fillna(value=0,inplace=True) \n",
    "df.head()"
   ]
  },
  {
   "cell_type": "code",
   "execution_count": 93,
   "metadata": {},
   "outputs": [
    {
     "name": "stdout",
     "output_type": "stream",
     "text": [
      "<class 'pandas.core.frame.DataFrame'>\n",
      "RangeIndex: 193 entries, 0 to 192\n",
      "Data columns (total 4 columns):\n",
      " #   Column         Non-Null Count  Dtype \n",
      "---  ------         --------------  ----- \n",
      " 0   continent      193 non-null    object\n",
      " 1   country        193 non-null    object\n",
      " 2   beer_servings  193 non-null    int64 \n",
      " 3   wine_servings  193 non-null    int64 \n",
      "dtypes: int64(2), object(2)\n",
      "memory usage: 6.2+ KB\n"
     ]
    }
   ],
   "source": [
    "df.info()"
   ]
  },
  {
   "cell_type": "code",
   "execution_count": 94,
   "metadata": {},
   "outputs": [
    {
     "name": "stdout",
     "output_type": "stream",
     "text": [
      "T-statistic: -6.118196818166092\n",
      "P-value: 2.3346193715127866e-09\n"
     ]
    }
   ],
   "source": [
    "t_statistic, p_value = stats.ttest_ind(df['wine_servings'], df['beer_servings'])\n",
    "print(\"T-statistic:\", t_statistic)\n",
    "print(\"P-value:\", p_value)"
   ]
  },
  {
   "cell_type": "code",
   "execution_count": 95,
   "metadata": {},
   "outputs": [
    {
     "name": "stdout",
     "output_type": "stream",
     "text": [
      "Countries with wine servings not significantly different from the global average:\n",
      "Albania\n",
      "Angola\n",
      "Antigua & Barbuda\n",
      "Bahamas\n",
      "Belarus\n",
      "Estonia\n",
      "Gabon\n",
      "Lithuania\n",
      "Poland\n",
      "Seychelles\n",
      "Ukraine\n"
     ]
    }
   ],
   "source": [
    "# 전세계 평균에서 벗어나지않는 나라들\n",
    "\n",
    "# URL of the dataset\n",
    "url = 'https://raw.githubusercontent.com/yoonkt200/python-data-analysis/master/data/drinks.csv'\n",
    "\n",
    "# Load the dataset from the URL\n",
    "data = pd.read_csv(url)\n",
    "\n",
    "# Setting a significance level\n",
    "alpha = 0.05\n",
    "\n",
    "# Performing T-tests for each country\n",
    "significant_countries = []\n",
    "for index, row in data.iterrows():\n",
    "    t_stat, p_val = stats.ttest_1samp(data['wine_servings'], row['wine_servings'])\n",
    "    if p_val > alpha:\n",
    "        significant_countries.append(row['country'])\n",
    "\n",
    "print(\"Countries with wine servings not significantly different from the global average:\")\n",
    "for country in significant_countries:\n",
    "    print(country)\n"
   ]
  },
  {
   "cell_type": "code",
   "execution_count": 96,
   "metadata": {},
   "outputs": [
    {
     "name": "stdout",
     "output_type": "stream",
     "text": [
      "T-statistic for Albania: -0.79\n",
      "T-statistic for Angola: 0.78\n",
      "T-statistic for Antigua & Barbuda: 0.78\n",
      "T-statistic for Bahamas: -0.27\n",
      "T-statistic for Belarus: 1.30\n",
      "T-statistic for Estonia: -1.66\n",
      "T-statistic for Gabon: -1.66\n",
      "T-statistic for Lithuania: -1.14\n",
      "T-statistic for Poland: -1.14\n",
      "T-statistic for Seychelles: -0.27\n",
      "T-statistic for Ukraine: 0.78\n"
     ]
    }
   ],
   "source": [
    "\n",
    "\n",
    "# URL of the dataset\n",
    "url = 'https://raw.githubusercontent.com/yoonkt200/python-data-analysis/master/data/drinks.csv'\n",
    "\n",
    "# Load the dataset from the URL\n",
    "data = pd.read_csv(url)\n",
    "\n",
    "# List of countries with wine servings not significantly different from the global average\n",
    "significant_countries = ['Albania', 'Angola', 'Antigua & Barbuda', 'Bahamas', 'Belarus', 'Estonia', 'Gabon', 'Lithuania', 'Poland', 'Seychelles', 'Ukraine']\n",
    "\n",
    "# Calculate T-statistic for each country\n",
    "t_statistics = {}\n",
    "for country in significant_countries:\n",
    "    wine_servings = data[data['country'] == country]['wine_servings'].values[0]\n",
    "    t_statistic, _ = stats.ttest_1samp(data['wine_servings'], wine_servings)\n",
    "    t_statistics[country] = t_statistic\n",
    "\n",
    "# Display T-statistics for each country\n",
    "for country, t_statistic in t_statistics.items():\n",
    "    print(f\"T-statistic for {country}: {t_statistic:.2f}\")\n"
   ]
  },
  {
   "cell_type": "code",
   "execution_count": 97,
   "metadata": {},
   "outputs": [
    {
     "name": "stdout",
     "output_type": "stream",
     "text": [
      "P-value for Albania: 0.428759\n",
      "P-value for Angola: 0.438801\n",
      "P-value for Antigua & Barbuda: 0.438801\n",
      "P-value for Bahamas: 0.787410\n",
      "P-value for Belarus: 0.195578\n",
      "P-value for Estonia: 0.097630\n",
      "P-value for Gabon: 0.097630\n",
      "P-value for Lithuania: 0.255032\n",
      "P-value for Poland: 0.255032\n",
      "P-value for Seychelles: 0.787410\n",
      "P-value for Ukraine: 0.438801\n"
     ]
    }
   ],
   "source": [
    "import pandas as pd\n",
    "from scipy import stats\n",
    "\n",
    "# URL of the dataset\n",
    "url = 'https://raw.githubusercontent.com/yoonkt200/python-data-analysis/master/data/drinks.csv'\n",
    "\n",
    "# Load the dataset from the URL\n",
    "data = pd.read_csv(url)\n",
    "\n",
    "# List of countries with wine servings not significantly different from the global average\n",
    "significant_countries = ['Albania', 'Angola', 'Antigua & Barbuda', 'Bahamas', 'Belarus', 'Estonia', 'Gabon', 'Lithuania', 'Poland', 'Seychelles', 'Ukraine']\n",
    "\n",
    "# Calculate p-value for each country\n",
    "p_values = {}\n",
    "for country in significant_countries:\n",
    "    wine_servings = data[data['country'] == country]['wine_servings'].values[0]\n",
    "    _, p_value = stats.ttest_1samp(data['wine_servings'], wine_servings)\n",
    "    p_values[country] = p_value\n",
    "\n",
    "# Display p-values for each country\n",
    "for country, p_value in p_values.items():\n",
    "    print(f\"P-value for {country}: {p_value:.6f}\")\n"
   ]
  },
  {
   "cell_type": "code",
   "execution_count": null,
   "metadata": {},
   "outputs": [],
   "source": [
    "# 에스토니아의 경우 p-value 유의확률이 0.098로 나타나서 유의수준 5%에서 대립가설을 기각할 수 있다. 즉, 에스토니아의 와인소비량은 전체평균과 비슷하다고 할수 없다.  "
   ]
  }
 ],
 "metadata": {
  "kernelspec": {
   "display_name": "OpenAI",
   "language": "python",
   "name": "python3"
  },
  "language_info": {
   "codemirror_mode": {
    "name": "ipython",
    "version": 3
   },
   "file_extension": ".py",
   "mimetype": "text/x-python",
   "name": "python",
   "nbconvert_exporter": "python",
   "pygments_lexer": "ipython3",
   "version": "3.12.0"
  }
 },
 "nbformat": 4,
 "nbformat_minor": 2
}
